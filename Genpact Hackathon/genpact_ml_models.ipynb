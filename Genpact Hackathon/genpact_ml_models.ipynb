{
 "cells": [
  {
   "cell_type": "code",
   "execution_count": 1,
   "metadata": {},
   "outputs": [],
   "source": [
    "# importing libraries.\n",
    "import pandas as pd\n",
    "import numpy as np \n",
    "\n",
    "## Loading Datasets\n",
    "test = pd.read_csv('/home/aakash/Genpact/test_main.csv')\n",
    "train = pd.read_csv('/home/aakash/Genpact/train/train.csv') ## This is the demand data for raw materials.\n",
    "train_meal = pd.read_csv('/home/aakash/Genpact/train/meal_info.csv')\n",
    "train_centers = pd.read_csv('/home/aakash/Genpact/train/fulfilment_center_info.csv')"
   ]
  },
  {
   "cell_type": "code",
   "execution_count": 2,
   "metadata": {},
   "outputs": [
    {
     "name": "stdout",
     "output_type": "stream",
     "text": [
      "train dataset shape (456548, 9)\n",
      "train dataset columns Index(['id', 'week', 'center_id', 'meal_id', 'checkout_price', 'base_price',\n",
      "       'emailer_for_promotion', 'homepage_featured', 'num_orders'],\n",
      "      dtype='object')\n"
     ]
    }
   ],
   "source": [
    "## EDA\n",
    "print('train dataset shape',train.shape) # So we have a huge dataset\n",
    "print('train dataset columns', train.columns)     "
   ]
  },
  {
   "cell_type": "code",
   "execution_count": 3,
   "metadata": {},
   "outputs": [
    {
     "name": "stdout",
     "output_type": "stream",
     "text": [
      "(32573, 8)\n",
      "Index(['id', 'week', 'center_id', 'meal_id', 'checkout_price', 'base_price',\n",
      "       'emailer_for_promotion', 'homepage_featured'],\n",
      "      dtype='object')\n"
     ]
    }
   ],
   "source": [
    "test_id = test.id\n",
    "print(test.shape)\n",
    "print(test.columns) ## So num_orders is our target variable."
   ]
  },
  {
   "cell_type": "code",
   "execution_count": 4,
   "metadata": {},
   "outputs": [
    {
     "data": {
      "text/plain": [
       "id                         int64\n",
       "week                       int64\n",
       "center_id                  int64\n",
       "meal_id                    int64\n",
       "checkout_price           float64\n",
       "base_price               float64\n",
       "emailer_for_promotion      int64\n",
       "homepage_featured          int64\n",
       "num_orders                 int64\n",
       "dtype: object"
      ]
     },
     "execution_count": 4,
     "metadata": {},
     "output_type": "execute_result"
    }
   ],
   "source": [
    "train.dtypes ## so clearly our target varibale is Numerical\n",
    "## So this is a regression analysis problem."
   ]
  },
  {
   "cell_type": "code",
   "execution_count": 5,
   "metadata": {},
   "outputs": [
    {
     "data": {
      "text/html": [
       "<div>\n",
       "<style scoped>\n",
       "    .dataframe tbody tr th:only-of-type {\n",
       "        vertical-align: middle;\n",
       "    }\n",
       "\n",
       "    .dataframe tbody tr th {\n",
       "        vertical-align: top;\n",
       "    }\n",
       "\n",
       "    .dataframe thead th {\n",
       "        text-align: right;\n",
       "    }\n",
       "</style>\n",
       "<table border=\"1\" class=\"dataframe\">\n",
       "  <thead>\n",
       "    <tr style=\"text-align: right;\">\n",
       "      <th></th>\n",
       "      <th>id</th>\n",
       "      <th>week</th>\n",
       "      <th>center_id</th>\n",
       "      <th>meal_id</th>\n",
       "      <th>checkout_price</th>\n",
       "      <th>base_price</th>\n",
       "      <th>emailer_for_promotion</th>\n",
       "      <th>homepage_featured</th>\n",
       "      <th>num_orders</th>\n",
       "    </tr>\n",
       "  </thead>\n",
       "  <tbody>\n",
       "    <tr>\n",
       "      <th>0</th>\n",
       "      <td>1379560</td>\n",
       "      <td>1</td>\n",
       "      <td>55</td>\n",
       "      <td>1885</td>\n",
       "      <td>136.83</td>\n",
       "      <td>152.29</td>\n",
       "      <td>0</td>\n",
       "      <td>0</td>\n",
       "      <td>177</td>\n",
       "    </tr>\n",
       "    <tr>\n",
       "      <th>1</th>\n",
       "      <td>1466964</td>\n",
       "      <td>1</td>\n",
       "      <td>55</td>\n",
       "      <td>1993</td>\n",
       "      <td>136.83</td>\n",
       "      <td>135.83</td>\n",
       "      <td>0</td>\n",
       "      <td>0</td>\n",
       "      <td>270</td>\n",
       "    </tr>\n",
       "    <tr>\n",
       "      <th>2</th>\n",
       "      <td>1346989</td>\n",
       "      <td>1</td>\n",
       "      <td>55</td>\n",
       "      <td>2539</td>\n",
       "      <td>134.86</td>\n",
       "      <td>135.86</td>\n",
       "      <td>0</td>\n",
       "      <td>0</td>\n",
       "      <td>189</td>\n",
       "    </tr>\n",
       "    <tr>\n",
       "      <th>3</th>\n",
       "      <td>1338232</td>\n",
       "      <td>1</td>\n",
       "      <td>55</td>\n",
       "      <td>2139</td>\n",
       "      <td>339.50</td>\n",
       "      <td>437.53</td>\n",
       "      <td>0</td>\n",
       "      <td>0</td>\n",
       "      <td>54</td>\n",
       "    </tr>\n",
       "    <tr>\n",
       "      <th>4</th>\n",
       "      <td>1448490</td>\n",
       "      <td>1</td>\n",
       "      <td>55</td>\n",
       "      <td>2631</td>\n",
       "      <td>243.50</td>\n",
       "      <td>242.50</td>\n",
       "      <td>0</td>\n",
       "      <td>0</td>\n",
       "      <td>40</td>\n",
       "    </tr>\n",
       "  </tbody>\n",
       "</table>\n",
       "</div>"
      ],
      "text/plain": [
       "        id  week  center_id  meal_id  checkout_price  base_price  \\\n",
       "0  1379560     1         55     1885          136.83      152.29   \n",
       "1  1466964     1         55     1993          136.83      135.83   \n",
       "2  1346989     1         55     2539          134.86      135.86   \n",
       "3  1338232     1         55     2139          339.50      437.53   \n",
       "4  1448490     1         55     2631          243.50      242.50   \n",
       "\n",
       "   emailer_for_promotion  homepage_featured  num_orders  \n",
       "0                      0                  0         177  \n",
       "1                      0                  0         270  \n",
       "2                      0                  0         189  \n",
       "3                      0                  0          54  \n",
       "4                      0                  0          40  "
      ]
     },
     "execution_count": 5,
     "metadata": {},
     "output_type": "execute_result"
    }
   ],
   "source": [
    "train.head()\n",
    "## A himepage featured meal is likely to have higher num_order."
   ]
  },
  {
   "cell_type": "code",
   "execution_count": 6,
   "metadata": {},
   "outputs": [
    {
     "name": "stdout",
     "output_type": "stream",
     "text": [
      "51\n",
      "Beverages       12\n",
      "Biryani          3\n",
      "Fish             3\n",
      "Desert           3\n",
      "Starters         3\n",
      "Sandwich         3\n",
      "Pizza            3\n",
      "Seafood          3\n",
      "Soup             3\n",
      "Other Snacks     3\n",
      "Pasta            3\n",
      "Extras           3\n",
      "Salad            3\n",
      "Rice Bowl        3\n",
      "Name: category, dtype: int64\n",
      "  \n",
      "Thai           15\n",
      "Continental    12\n",
      "Italian        12\n",
      "Indian         12\n",
      "Name: cuisine, dtype: int64\n"
     ]
    }
   ],
   "source": [
    "## Now what I want to do is convert all the 3 train data's into a single dataset.\n",
    "# Note that center ID and meal ID are going to be the most imprtant features for us.\n",
    "# Lets check for the null values. if any. So no null values.\n",
    "print(len(train.meal_id.unique()))  \n",
    "# So we have 77 unique meal centres and 51 unique meals.\n",
    "print(train_meal.category.value_counts()) # So most meals actually coreespont to beverages.\n",
    "print(\"  \")\n",
    "print(train_meal.cuisine.value_counts()) # and most people prefer Thai cuisine."
   ]
  },
  {
   "cell_type": "code",
   "execution_count": 7,
   "metadata": {},
   "outputs": [
    {
     "name": "stdout",
     "output_type": "stream",
     "text": [
      "(77, 5)\n"
     ]
    },
    {
     "data": {
      "text/html": [
       "<div>\n",
       "<style scoped>\n",
       "    .dataframe tbody tr th:only-of-type {\n",
       "        vertical-align: middle;\n",
       "    }\n",
       "\n",
       "    .dataframe tbody tr th {\n",
       "        vertical-align: top;\n",
       "    }\n",
       "\n",
       "    .dataframe thead th {\n",
       "        text-align: right;\n",
       "    }\n",
       "</style>\n",
       "<table border=\"1\" class=\"dataframe\">\n",
       "  <thead>\n",
       "    <tr style=\"text-align: right;\">\n",
       "      <th></th>\n",
       "      <th>center_id</th>\n",
       "      <th>city_code</th>\n",
       "      <th>region_code</th>\n",
       "      <th>center_type</th>\n",
       "      <th>op_area</th>\n",
       "    </tr>\n",
       "  </thead>\n",
       "  <tbody>\n",
       "    <tr>\n",
       "      <th>0</th>\n",
       "      <td>11</td>\n",
       "      <td>679</td>\n",
       "      <td>56</td>\n",
       "      <td>TYPE_A</td>\n",
       "      <td>3.7</td>\n",
       "    </tr>\n",
       "    <tr>\n",
       "      <th>1</th>\n",
       "      <td>13</td>\n",
       "      <td>590</td>\n",
       "      <td>56</td>\n",
       "      <td>TYPE_B</td>\n",
       "      <td>6.7</td>\n",
       "    </tr>\n",
       "    <tr>\n",
       "      <th>2</th>\n",
       "      <td>124</td>\n",
       "      <td>590</td>\n",
       "      <td>56</td>\n",
       "      <td>TYPE_C</td>\n",
       "      <td>4.0</td>\n",
       "    </tr>\n",
       "    <tr>\n",
       "      <th>3</th>\n",
       "      <td>66</td>\n",
       "      <td>648</td>\n",
       "      <td>34</td>\n",
       "      <td>TYPE_A</td>\n",
       "      <td>4.1</td>\n",
       "    </tr>\n",
       "    <tr>\n",
       "      <th>4</th>\n",
       "      <td>94</td>\n",
       "      <td>632</td>\n",
       "      <td>34</td>\n",
       "      <td>TYPE_C</td>\n",
       "      <td>3.6</td>\n",
       "    </tr>\n",
       "  </tbody>\n",
       "</table>\n",
       "</div>"
      ],
      "text/plain": [
       "   center_id  city_code  region_code center_type  op_area\n",
       "0         11        679           56      TYPE_A      3.7\n",
       "1         13        590           56      TYPE_B      6.7\n",
       "2        124        590           56      TYPE_C      4.0\n",
       "3         66        648           34      TYPE_A      4.1\n",
       "4         94        632           34      TYPE_C      3.6"
      ]
     },
     "execution_count": 7,
     "metadata": {},
     "output_type": "execute_result"
    }
   ],
   "source": [
    "print(train_centers.shape)\n",
    "train_centers.city_code.value_counts() ## So most meal centres are in city with city ID 590\n",
    "train_centers.region_code.value_counts() # and most meal centres have a region code 30.\n",
    "train_centers.center_type.value_counts() # So Type_A might be some centres of high importance.\n",
    "train_centers.head()"
   ]
  },
  {
   "cell_type": "code",
   "execution_count": 8,
   "metadata": {},
   "outputs": [
    {
     "name": "stdout",
     "output_type": "stream",
     "text": [
      "261.8727603669275\n"
     ]
    }
   ],
   "source": [
    "## Now lwts compute the mean number of orders..\n",
    "x = np.mean(train.num_orders)\n",
    "print(x)\n",
    "\n",
    "# lets make a baseline submission on test data using this mean.\n",
    "pd.DataFrame({'id': test.id, 'num_orders' : x}).to_csv('genpact.csv', index = False)"
   ]
  },
  {
   "cell_type": "code",
   "execution_count": 9,
   "metadata": {},
   "outputs": [],
   "source": [
    "# Now lets create new datasets. \n",
    "## Creating columns from centre data.\n",
    "### For Train data ####\n",
    "for col in train_centers.columns[1:]:\n",
    "    train[col] = train.center_id.replace(train_centers.set_index('center_id')[col])\n",
    "    test[col] = test.center_id.replace(train_centers.set_index('center_id')[col])\n",
    "\n",
    "for col in train_meal.columns[1:]:\n",
    "    train[col] = train.meal_id.replace(train_meal.set_index('meal_id')[col])\n",
    "    test[col] = test.meal_id.replace(train_meal.set_index('meal_id')[col])    \n",
    "    \n",
    "train['center_type'] = pd.get_dummies(train['center_type'])\n",
    "test['center_type'] = pd.get_dummies(test['center_type'])\n",
    "\n",
    "train['cuisine'] = pd.get_dummies(train['cuisine'])\n",
    "test['cuisine'] = pd.get_dummies(test['cuisine'])\n",
    "\n",
    "train['category'] = pd.get_dummies(train['category'])\n",
    "test['category'] = pd.get_dummies(test['category'])"
   ]
  },
  {
   "cell_type": "code",
   "execution_count": 10,
   "metadata": {},
   "outputs": [
    {
     "name": "stdout",
     "output_type": "stream",
     "text": [
      "6.929943296742635\n",
      "-0.021917552017371056\n"
     ]
    }
   ],
   "source": [
    "from scipy.stats import skew\n",
    "print(skew(train.num_orders))\n",
    "\n",
    "train.num_orders = np.log1p(train.num_orders)\n",
    "print(skew(train.num_orders))"
   ]
  },
  {
   "cell_type": "code",
   "execution_count": 11,
   "metadata": {},
   "outputs": [],
   "source": [
    "train_y = train['num_orders']\n",
    "train_x = train.drop('num_orders', axis = 1)\n",
    "train_x = train_x.drop('id', axis = 1)\n",
    "test = test.drop('id', axis = 1)"
   ]
  },
  {
   "cell_type": "code",
   "execution_count": 15,
   "metadata": {},
   "outputs": [
    {
     "data": {
      "text/plain": [
       "0.6448518648395613"
      ]
     },
     "execution_count": 15,
     "metadata": {},
     "output_type": "execute_result"
    }
   ],
   "source": [
    "## Trying some tree based models\n",
    "# Using Decision Tree \n",
    "from sklearn.tree import DecisionTreeRegressor\n",
    "from sklearn.model_selection import train_test_split\n",
    "from sklearn.metrics import mean_squared_log_error\n",
    "\n",
    "## Splitting the training data into train and validation sets.\n",
    "x_train, x_val, y_train, y_val  = train_test_split(train_x, train_y, test_size = 0.25, random_state = 1)\n",
    "\n",
    "dtree = DecisionTreeRegressor()\n",
    "dtree.fit(x_train, y_train)\n",
    "\n",
    "y_pred_val = np.expm1(dtree.predict(x_val))\n",
    "true_val = np.expm1(y_val)\n",
    "y_pred_val = np.clip(y_pred_val, np.expm1(y_train.min()), np.expm1(train_y.max()))\n",
    "\n",
    "np.sqrt(mean_squared_log_error(y_pred_val, true_val))"
   ]
  },
  {
   "cell_type": "code",
   "execution_count": 16,
   "metadata": {},
   "outputs": [
    {
     "data": {
      "text/plain": [
       "0.47560510110682547"
      ]
     },
     "execution_count": 16,
     "metadata": {},
     "output_type": "execute_result"
    }
   ],
   "source": [
    "## Using Random Forest\n",
    "from sklearn.ensemble import RandomForestRegressor\n",
    "rf = RandomForestRegressor(n_estimators = 50, \n",
    "                           oob_score = 'TRUE', \n",
    "                           n_jobs = -1, \n",
    "                           max_features = 'auto', \n",
    "                           min_samples_leaf = 5)\n",
    "rf.fit(x_train, y_train)\n",
    "\n",
    "y_pred_val = np.expm1(rf.predict(x_val))\n",
    "true_val = np.expm1(y_val)\n",
    "y_pred_val = np.clip(y_pred_val, np.expm1(y_train.min()), np.expm1(train_y.max()))\n",
    "\n",
    "np.sqrt(mean_squared_log_error(y_pred_val, true_val))"
   ]
  },
  {
   "cell_type": "code",
   "execution_count": 18,
   "metadata": {},
   "outputs": [
    {
     "data": {
      "text/plain": [
       "0.4801381624326768"
      ]
     },
     "execution_count": 18,
     "metadata": {},
     "output_type": "execute_result"
    }
   ],
   "source": [
    "# Using Extra Tree Regressor\n",
    "from sklearn.ensemble import ExtraTreesRegressor\n",
    "\n",
    "et = ExtraTreesRegressor(n_estimators = 50, min_samples_leaf = 4,n_jobs = -1)\n",
    "et.fit(x_train, y_train)\n",
    "\n",
    "y_pred_val = np.expm1(et.predict(x_val))\n",
    "true_val = np.expm1(y_val)\n",
    "y_pred_val = np.clip(y_pred_val, np.expm1(y_train.min()), np.expm1(train_y.max()))\n",
    "\n",
    "np.sqrt(mean_squared_log_error(y_pred_val, true_val))"
   ]
  },
  {
   "cell_type": "code",
   "execution_count": 19,
   "metadata": {},
   "outputs": [],
   "source": [
    "## Final prediction on test dataset.\n",
    "x = np.expm1(et.predict(test))\n",
    "pd.DataFrame({'id': test_id, 'num_orders' : x}).to_csv('genpact.csv', index = False)"
   ]
  }
 ],
 "metadata": {
  "kernelspec": {
   "display_name": "Python 3",
   "language": "python",
   "name": "python3"
  },
  "language_info": {
   "codemirror_mode": {
    "name": "ipython",
    "version": 3
   },
   "file_extension": ".py",
   "mimetype": "text/x-python",
   "name": "python",
   "nbconvert_exporter": "python",
   "pygments_lexer": "ipython3",
   "version": "3.6.4"
  }
 },
 "nbformat": 4,
 "nbformat_minor": 2
}
