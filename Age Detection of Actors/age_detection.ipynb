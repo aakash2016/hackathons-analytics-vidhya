{
 "cells": [
  {
   "cell_type": "code",
   "execution_count": 1,
   "metadata": {},
   "outputs": [
    {
     "name": "stdout",
     "output_type": "stream",
     "text": [
      "Populating the interactive namespace from numpy and matplotlib\n",
      "(19906, 2)\n",
      "(6636, 1)\n"
     ]
    },
    {
     "name": "stderr",
     "output_type": "stream",
     "text": [
      "/home/aakash/miniconda3/envs/datapysci/lib/python3.6/site-packages/IPython/core/magics/pylab.py:160: UserWarning: pylab import has clobbered these variables: ['imread', 'random']\n",
      "`%matplotlib` prevents importing * from pylab and numpy\n",
      "  \"\\n`%matplotlib` prevents importing * from pylab and numpy\"\n"
     ]
    }
   ],
   "source": [
    "## randomly loading an image into jupyter notebook and printing it.\n",
    "import pandas as pd\n",
    "\n",
    "import random\n",
    "from scipy.misc import imread\n",
    "%pylab inline\n",
    "\n",
    "train = pd.read_csv('/home/aakash/Downloads/Age_Detection/train_DETg9GD/train.csv')\n",
    "test = pd.read_csv('/home/aakash/Downloads/Age_Detection/test_Bh8pGW3/test.csv')\n",
    "print(train.shape); print(test.shape)\n",
    "\n",
    "import warnings\n",
    "warnings.simplefilter('ignore')"
   ]
  },
  {
   "cell_type": "code",
   "execution_count": 2,
   "metadata": {},
   "outputs": [
    {
     "name": "stdout",
     "output_type": "stream",
     "text": [
      "19132.jpg\n",
      "MIDDLE\n"
     ]
    },
    {
     "data": {
      "image/png": "[encoded data removed]",
      "text/plain": [
       "<matplotlib.figure.Figure at 0x7f3debf9c0b8>"
      ]
     },
     "metadata": {},
     "output_type": "display_data"
    }
   ],
   "source": [
    "## Lets view some of the images.\n",
    "i = random.choice(train.index)\n",
    "name = train.ID[i]\n",
    "print(name)\n",
    "print(train.Class[i])\n",
    "img = imread('/home/aakash/Downloads/Age_Detection/train_DETg9GD/Train/{}'.format(name))\n",
    "pylab.imshow(img)\n",
    "pylab.axis('off')\n",
    "pylab.show()"
   ]
  },
  {
   "cell_type": "code",
   "execution_count": 3,
   "metadata": {},
   "outputs": [
    {
     "name": "stdout",
     "output_type": "stream",
     "text": [
      "    Class         ID\n",
      "0  MIDDLE  25321.jpg\n",
      "1  MIDDLE    989.jpg\n",
      "2  MIDDLE  19277.jpg\n",
      "3  MIDDLE  13093.jpg\n",
      "4  MIDDLE   5367.jpg\n"
     ]
    }
   ],
   "source": [
    "train.Class.value_counts(normalize = True)\n",
    "## So most of the actors are middle aged.\n",
    "# Making our first submission\n",
    "test['Class'] = 'MIDDLE'\n",
    "\n",
    "columnsTitles=[\"Class\",\"ID\"]\n",
    "test=test.reindex(columns=columnsTitles)\n",
    "test.to_csv('sub0.csv', index = False)\n",
    "print(test.head())"
   ]
  },
  {
   "cell_type": "code",
   "execution_count": 12,
   "metadata": {},
   "outputs": [],
   "source": [
    "## Preprocessing:\n",
    "## Variations in shape: One image had a shape (66, 46) whereas other had (102, 87)\n",
    "# Resizing all images\n",
    "from scipy.misc import imresize\n",
    "\n",
    "temp = []\n",
    "for img_name in train.ID:\n",
    "    img = imread('/home/aakash/Downloads/Age_Detection/train_DETg9GD/Train/{}'.format(img_name))\n",
    "    img = imresize(img, (32,32))\n",
    "    img = img.astype('float32')\n",
    "    temp.append(img)\n",
    "train_x = np.stack(temp)"
   ]
  },
  {
   "cell_type": "code",
   "execution_count": 13,
   "metadata": {},
   "outputs": [
    {
     "name": "stderr",
     "output_type": "stream",
     "text": [
      "IOPub data rate exceeded.\n",
      "The notebook server will temporarily stop sending output\n",
      "to the client in order to avoid crashing it.\n",
      "To change this limit, set the config variable\n",
      "`--NotebookApp.iopub_data_rate_limit`.\n",
      "\n",
      "Current values:\n",
      "NotebookApp.iopub_data_rate_limit=1000000.0 (bytes/sec)\n",
      "NotebookApp.rate_limit_window=3.0 (secs)\n",
      "\n"
     ]
    }
   ],
   "source": [
    "## Similarly for test images\n",
    "temp = []\n",
    "for img_name in test.ID:\n",
    "    img = imread('/home/aakash/Downloads/Age_Detection/test_Bh8pGW3/Test/{}'.format(img_name))\n",
    "    img = imresize(img, (32,32))\n",
    "    img = img.astype('float32')\n",
    "    temp.append(img)\n",
    "print(temp)    \n",
    "test_x = np.stack(temp)"
   ]
  },
  {
   "cell_type": "code",
   "execution_count": 14,
   "metadata": {},
   "outputs": [
    {
     "data": {
      "text/plain": [
       "(19906, 32, 32, 3)"
      ]
     },
     "execution_count": 14,
     "metadata": {},
     "output_type": "execute_result"
    }
   ],
   "source": [
    "## Normalizing the images\n",
    "train_x = train_x / 255.\n",
    "test_x = test_x / 255.\n",
    "\n",
    "train_x.shape"
   ]
  },
  {
   "cell_type": "code",
   "execution_count": 15,
   "metadata": {},
   "outputs": [],
   "source": [
    "import keras\n",
    "import tensorflow as tf\n",
    "from sklearn.preprocessing import LabelEncoder\n",
    "\n",
    "lb = LabelEncoder()\n",
    "train_y = lb.fit_transform(train.Class)\n",
    "train_y = keras.utils.np_utils.to_categorical(train_y, num_classes = 3)\n",
    "\n",
    "from sklearn.cross_validation import train_test_split\n",
    "x_train, x_val, y_train, y_val = train_test_split(train_x, train_y, test_size = 0.18)"
   ]
  },
  {
   "cell_type": "code",
   "execution_count": 16,
   "metadata": {},
   "outputs": [],
   "source": [
    "from keras.preprocessing import image\n",
    "from keras.callbacks import ReduceLROnPlateau\n",
    "## Data Augmentation.\n",
    "## Generates augmented images to bring diversity to the training set and improve generalization\n",
    "# Set a learning rate annealer\n",
    "learning_rate_reduction = ReduceLROnPlateau(monitor='val_acc', \n",
    "                                            patience=3, \n",
    "                                            verbose=1, \n",
    "                                            factor=0.5, \n",
    "                                            min_lr=0.00001)\n",
    "\n",
    "# With data augmentation to prevent overfitting\n",
    "datagen = image.ImageDataGenerator(\n",
    "        featurewise_center=False,  # set input mean to 0 over the dataset\n",
    "        samplewise_center=False,  # set each sample mean to 0\n",
    "        featurewise_std_normalization=False,  # divide inputs by std of the dataset\n",
    "        samplewise_std_normalization=False,  # divide each input by its std\n",
    "        zca_whitening=False,  # apply ZCA whitening\n",
    "        rotation_range=10,  # randomly rotate images in the range (degrees, 0 to 180)\n",
    "        zoom_range = 0.15, # Randomly zoom image \n",
    "        horizontal_flip=True,  # randomly flip images\n",
    "        vertical_flip=False)  # randomly flip images\n",
    "\n",
    "datagen.fit(train_x)"
   ]
  },
  {
   "cell_type": "code",
   "execution_count": 17,
   "metadata": {},
   "outputs": [],
   "source": [
    "from keras.layers import LeakyReLU, BatchNormalization, Dense, Activation, Dropout, MaxPool2D\n",
    "from keras.layers import Convolution2D, Flatten, MaxPooling2D, Reshape, InputLayer, Conv2D\n",
    "from keras.models import Sequential\n",
    "\n",
    "## defining our neural network architecture, adam is our optimisation algo.\n",
    "## create model\n",
    "model = Sequential([\n",
    "    BatchNormalization(input_shape = (32, 32, 3)), Flatten(),\n",
    "    Dense(units = 500, activation = 'relu'),\n",
    "    Dense(output_dim = 500, input_dim = 500, activation = 'relu'),  Dropout(0.15),\n",
    "    Dense(output_dim = 500, input_dim = 500, activation = 'relu'),  Dropout(0.15),\n",
    "    Dense(output_dim = 500, input_dim = 500, activation = 'relu'),  Dropout(0.15),\n",
    "    Dense(output_dim = 500, input_dim = 500, activation = 'relu'),  Dropout(0.15),\n",
    "    Dense(output_dim = 3, input_dim = 500, activation = tf.nn.softmax)\n",
    "])\n",
    "#model.summary()"
   ]
  },
  {
   "cell_type": "code",
   "execution_count": 18,
   "metadata": {},
   "outputs": [
    {
     "name": "stdout",
     "output_type": "stream",
     "text": [
      "_________________________________________________________________\n",
      "Layer (type)                 Output Shape              Param #   \n",
      "=================================================================\n",
      "conv2d_7 (Conv2D)            (None, 32, 32, 32)        896       \n",
      "_________________________________________________________________\n",
      "max_pooling2d_7 (MaxPooling2 (None, 16, 16, 32)        0         \n",
      "_________________________________________________________________\n",
      "dropout_18 (Dropout)         (None, 16, 16, 32)        0         \n",
      "_________________________________________________________________\n",
      "conv2d_8 (Conv2D)            (None, 16, 16, 32)        9248      \n",
      "_________________________________________________________________\n",
      "max_pooling2d_8 (MaxPooling2 (None, 8, 8, 32)          0         \n",
      "_________________________________________________________________\n",
      "dropout_19 (Dropout)         (None, 8, 8, 32)          0         \n",
      "_________________________________________________________________\n",
      "flatten_6 (Flatten)          (None, 2048)              0         \n",
      "_________________________________________________________________\n",
      "dense_22 (Dense)             (None, 128)               262272    \n",
      "_________________________________________________________________\n",
      "dense_23 (Dense)             (None, 64)                8256      \n",
      "_________________________________________________________________\n",
      "dropout_20 (Dropout)         (None, 64)                0         \n",
      "_________________________________________________________________\n",
      "dense_24 (Dense)             (None, 3)                 195       \n",
      "=================================================================\n",
      "Total params: 280,867\n",
      "Trainable params: 280,867\n",
      "Non-trainable params: 0\n",
      "_________________________________________________________________\n"
     ]
    }
   ],
   "source": [
    "from keras.layers import AveragePooling2D\n",
    "\n",
    "# Using a CNN Model\n",
    "model = Sequential()\n",
    "model.add(Conv2D(32, (3, 3), padding='same',activation = 'relu', input_shape=(32, 32, 3)))\n",
    "model.add(MaxPooling2D(pool_size=(2, 2)))\n",
    "model.add(Dropout(0.25))\n",
    "model.add(Conv2D(32, (3, 3), padding='same',activation = 'relu'))\n",
    "model.add(MaxPooling2D(pool_size=(2, 2)))\n",
    "model.add(Dropout(0.25))\n",
    "model.add(Flatten())\n",
    "model.add(Dense(128, activation='relu'))\n",
    "model.add(Dense(64, activation='relu'))\n",
    "model.add(Dropout(0.3))\n",
    "model.add(Dense(3, activation = tf.nn.softmax))\n",
    "\n",
    "model.summary()"
   ]
  },
  {
   "cell_type": "code",
   "execution_count": 19,
   "metadata": {},
   "outputs": [
    {
     "name": "stdout",
     "output_type": "stream",
     "text": [
      "Train on 15924 samples, validate on 3982 samples\n",
      "Epoch 1/30\n",
      "15924/15924 [==============================] - 23s 1ms/step - loss: 0.9331 - acc: 0.5521 - val_loss: 0.9015 - val_acc: 0.5814\n",
      "Epoch 2/30\n",
      "15924/15924 [==============================] - 21s 1ms/step - loss: 0.8384 - acc: 0.6189 - val_loss: 0.8209 - val_acc: 0.6472\n",
      "Epoch 3/30\n",
      "15924/15924 [==============================] - 21s 1ms/step - loss: 0.7817 - acc: 0.6523 - val_loss: 0.7665 - val_acc: 0.6735\n",
      "Epoch 4/30\n",
      "15924/15924 [==============================] - 21s 1ms/step - loss: 0.7548 - acc: 0.6686 - val_loss: 0.7300 - val_acc: 0.6951\n",
      "Epoch 5/30\n",
      "15924/15924 [==============================] - 22s 1ms/step - loss: 0.7365 - acc: 0.6712 - val_loss: 0.7351 - val_acc: 0.6959\n",
      "Epoch 6/30\n",
      "15924/15924 [==============================] - 22s 1ms/step - loss: 0.7165 - acc: 0.6858 - val_loss: 0.7103 - val_acc: 0.7034\n",
      "Epoch 7/30\n",
      "15924/15924 [==============================] - 22s 1ms/step - loss: 0.7019 - acc: 0.6883 - val_loss: 0.6914 - val_acc: 0.7140\n",
      "Epoch 8/30\n",
      "15924/15924 [==============================] - 22s 1ms/step - loss: 0.6866 - acc: 0.6997 - val_loss: 0.6997 - val_acc: 0.7157\n",
      "Epoch 9/30\n",
      "15924/15924 [==============================] - 23s 1ms/step - loss: 0.6707 - acc: 0.7082 - val_loss: 0.6901 - val_acc: 0.7059\n",
      "Epoch 10/30\n",
      "15924/15924 [==============================] - 23s 1ms/step - loss: 0.6529 - acc: 0.7150 - val_loss: 0.6550 - val_acc: 0.7293\n",
      "Epoch 11/30\n",
      "15924/15924 [==============================] - 23s 1ms/step - loss: 0.6380 - acc: 0.7234 - val_loss: 0.6409 - val_acc: 0.7376\n",
      "Epoch 12/30\n",
      "15924/15924 [==============================] - 23s 1ms/step - loss: 0.6224 - acc: 0.7326 - val_loss: 0.6262 - val_acc: 0.7506\n",
      "Epoch 13/30\n",
      "15924/15924 [==============================] - 23s 1ms/step - loss: 0.6047 - acc: 0.7407 - val_loss: 0.6169 - val_acc: 0.7514\n",
      "Epoch 14/30\n",
      "15924/15924 [==============================] - 24s 2ms/step - loss: 0.5864 - acc: 0.7511 - val_loss: 0.5985 - val_acc: 0.7612\n",
      "Epoch 15/30\n",
      "15924/15924 [==============================] - 23s 1ms/step - loss: 0.5763 - acc: 0.7565 - val_loss: 0.5960 - val_acc: 0.7562\n",
      "Epoch 16/30\n",
      "15924/15924 [==============================] - 25s 2ms/step - loss: 0.5604 - acc: 0.7661 - val_loss: 0.5918 - val_acc: 0.7602\n",
      "Epoch 17/30\n",
      "15924/15924 [==============================] - 23s 1ms/step - loss: 0.5505 - acc: 0.7673 - val_loss: 0.5937 - val_acc: 0.7557\n",
      "Epoch 18/30\n",
      "15924/15924 [==============================] - 24s 2ms/step - loss: 0.5385 - acc: 0.7714 - val_loss: 0.5631 - val_acc: 0.7702\n",
      "Epoch 19/30\n",
      "15924/15924 [==============================] - 24s 1ms/step - loss: 0.5125 - acc: 0.7869 - val_loss: 0.5808 - val_acc: 0.7614\n",
      "Epoch 20/30\n",
      "15924/15924 [==============================] - 24s 1ms/step - loss: 0.5063 - acc: 0.7908 - val_loss: 0.5719 - val_acc: 0.7602\n",
      "Epoch 21/30\n",
      "15924/15924 [==============================] - 25s 2ms/step - loss: 0.4909 - acc: 0.7973 - val_loss: 0.5593 - val_acc: 0.7654\n",
      "Epoch 22/30\n",
      "15924/15924 [==============================] - 24s 1ms/step - loss: 0.4784 - acc: 0.8028 - val_loss: 0.5715 - val_acc: 0.7564\n",
      "Epoch 23/30\n",
      "15924/15924 [==============================] - 26s 2ms/step - loss: 0.4666 - acc: 0.8132 - val_loss: 0.5343 - val_acc: 0.7772\n",
      "Epoch 24/30\n",
      "15924/15924 [==============================] - 28s 2ms/step - loss: 0.4528 - acc: 0.8137 - val_loss: 0.5313 - val_acc: 0.7853\n",
      "Epoch 25/30\n",
      "15924/15924 [==============================] - 24s 1ms/step - loss: 0.4360 - acc: 0.8217 - val_loss: 0.5344 - val_acc: 0.7803\n",
      "Epoch 26/30\n",
      "15924/15924 [==============================] - 25s 2ms/step - loss: 0.4269 - acc: 0.8294 - val_loss: 0.5195 - val_acc: 0.7858\n",
      "Epoch 27/30\n",
      "15924/15924 [==============================] - 27s 2ms/step - loss: 0.4060 - acc: 0.8347 - val_loss: 0.5312 - val_acc: 0.7873\n",
      "Epoch 28/30\n",
      "15924/15924 [==============================] - 26s 2ms/step - loss: 0.3986 - acc: 0.8392 - val_loss: 0.5249 - val_acc: 0.7926\n",
      "Epoch 29/30\n",
      "15924/15924 [==============================] - 24s 1ms/step - loss: 0.3833 - acc: 0.8460 - val_loss: 0.5213 - val_acc: 0.7870\n",
      "Epoch 30/30\n",
      "15924/15924 [==============================] - 24s 1ms/step - loss: 0.3751 - acc: 0.8504 - val_loss: 0.5230 - val_acc: 0.7966\n"
     ]
    },
    {
     "data": {
      "text/plain": [
       "<keras.callbacks.History at 0x7f3db191d6d8>"
      ]
     },
     "execution_count": 19,
     "metadata": {},
     "output_type": "execute_result"
    }
   ],
   "source": [
    "# Fit the model\n",
    "# Define the optimizer\n",
    "from keras.optimizers import RMSprop\n",
    "adam = keras.optimizers.Adam(lr=0.0007, beta_1=0.9, beta_2=0.999, epsilon=1e-08)\n",
    "\n",
    "# Compile the model\n",
    "model.compile(optimizer = adam , loss = \"categorical_crossentropy\", metrics=[\"accuracy\"])\n",
    "\n",
    "model.fit(train_x, train_y, batch_size=256, epochs=30, verbose=1, validation_split=0.2)"
   ]
  },
  {
   "cell_type": "code",
   "execution_count": 21,
   "metadata": {},
   "outputs": [
    {
     "name": "stdout",
     "output_type": "stream",
     "text": [
      "    Class         ID\n",
      "0  MIDDLE  25321.jpg\n",
      "1   YOUNG    989.jpg\n",
      "2  MIDDLE  19277.jpg\n",
      "3  MIDDLE  13093.jpg\n",
      "4  MIDDLE   5367.jpg\n"
     ]
    },
    {
     "name": "stderr",
     "output_type": "stream",
     "text": [
      "/home/aakash/miniconda3/envs/datapysci/lib/python3.6/site-packages/sklearn/preprocessing/label.py:151: DeprecationWarning: The truth value of an empty array is ambiguous. Returning False, but in future this will result in an error. Use `array.size > 0` to check that an array is not empty.\n",
      "  if diff:\n"
     ]
    }
   ],
   "source": [
    "pred = model.predict_classes(test_x)\n",
    "pred = lb.inverse_transform(pred)\n",
    "## So most of the actors are middle aged.\n",
    "# Making our first submission\n",
    "test['Class'] = pred\n",
    "\n",
    "columnsTitles=[\"Class\",\"ID\"]\n",
    "test=test.reindex(columns=columnsTitles)\n",
    "test.to_csv('sub0.csv', index = False)\n",
    "print(test.head())"
   ]
  }
 ],
 "metadata": {
  "kernelspec": {
   "display_name": "Python 3",
   "language": "python",
   "name": "python3"
  },
  "language_info": {
   "codemirror_mode": {
    "name": "ipython",
    "version": 3
   },
   "file_extension": ".py",
   "mimetype": "text/x-python",
   "name": "python",
   "nbconvert_exporter": "python",
   "pygments_lexer": "ipython3",
   "version": "3.6.4"
  }
 },
 "nbformat": 4,
 "nbformat_minor": 2
}
